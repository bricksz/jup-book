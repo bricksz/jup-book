{
 "cells": [
  {
   "cell_type": "code",
   "execution_count": null,
   "metadata": {
    "collapsed": true
   },
   "outputs": [],
   "source": [
    "import numpy as np"
   ]
  },
  {
   "cell_type": "code",
   "execution_count": null,
   "metadata": {
    "collapsed": true
   },
   "outputs": [],
   "source": [
    "def splot_train_test(data, test_ratio):\n",
    "    shuffle_indx = np.random.permutation(len(data))\n",
    "    testset_size = int(len(data)* test_ratio)\n",
    "    test_indx = shuffle_indx[:testset_size]\n",
    "    train_indx = shuffle_indx[testset_size:]\n",
    "    return data.iloc[train_indx], data.iloc[test_indx]"
   ]
  },
  {
   "cell_type": "code",
   "execution_count": null,
   "metadata": {
    "collapsed": true
   },
   "outputs": [],
   "source": []
  }
 ],
 "metadata": {
  "kernelspec": {
   "display_name": "Python 3",
   "language": "python",
   "name": "python3"
  }
 },
 "nbformat": 4,
 "nbformat_minor": 2
}
